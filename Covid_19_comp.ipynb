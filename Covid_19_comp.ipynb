{
  "cells": [
    {
      "cell_type": "code",
      "execution_count": null,
      "metadata": {
        "colab": {
          "base_uri": "https://localhost:8080/"
        },
        "id": "jS3kxV4fqnRA",
        "outputId": "d05f1d72-6112-4f4c-ecfa-74f4824438f2"
      },
      "outputs": [
        {
          "output_type": "stream",
          "name": "stdout",
          "text": [
            "Collecting biopython==1.68\n",
            "  Downloading biopython-1.68.tar.gz (14.4 MB)\n",
            "\u001b[K     |████████████████████████████████| 14.4 MB 14.1 MB/s \n",
            "\u001b[?25hBuilding wheels for collected packages: biopython\n",
            "  Building wheel for biopython (setup.py) ... \u001b[?25l\u001b[?25hdone\n",
            "  Created wheel for biopython: filename=biopython-1.68-cp37-cp37m-linux_x86_64.whl size=2174341 sha256=00ff21d0ed867dca450c43131f5c74321d6ed0a081f5b6d288c871ebfd4452d4\n",
            "  Stored in directory: /root/.cache/pip/wheels/1f/0f/c5/1e4f778c096128191d45b358002d2a17419a95beac6266335c\n",
            "Successfully built biopython\n",
            "Installing collected packages: biopython\n",
            "  Attempting uninstall: biopython\n",
            "    Found existing installation: biopython 1.79\n",
            "    Uninstalling biopython-1.79:\n",
            "      Successfully uninstalled biopython-1.79\n",
            "Successfully installed biopython-1.68\n"
          ]
        }
      ],
      "source": [
        "! pip install biopython==1.68"
      ]
    },
    {
      "cell_type": "code",
      "execution_count": null,
      "metadata": {
        "id": "Df1VW4DytJ_L"
      },
      "outputs": [],
      "source": [
        "import pandas as pd\n",
        "import numpy as np \n",
        "import matplotlib.pyplot as plt\n",
        "import seaborn as sns\n",
        "from Bio.Seq import Seq\n",
        "from collections import Counter\n",
        "from Bio import pairwise2\n",
        "from Bio.Alphabet import generic_protein"
      ]
    },
    {
      "cell_type": "markdown",
      "metadata": {
        "id": "uuBhwSdlu72j"
      },
      "source": [
        "## Loading sequences files and analysis"
      ]
    },
    {
      "cell_type": "code",
      "execution_count": null,
      "metadata": {
        "id": "Ia3khuW5tX89"
      },
      "outputs": [],
      "source": [
        "reference_path='/content/reference.fasta'\n",
        "HKU1_path='/content/HKU1.fasta'\n",
        "NL63_path='/content/NL63.fasta'"
      ]
    },
    {
      "cell_type": "code",
      "execution_count": null,
      "metadata": {
        "id": "i-EQonL_Nowm"
      },
      "outputs": [],
      "source": [
        "def parse_file(file):\n",
        "  genome=''\n",
        "  with open(file) as f:\n",
        "    for line in f:\n",
        "      if not line[0]=='>':\n",
        "        genome+=line.rstrip()\n",
        "  return genome"
      ]
    },
    {
      "cell_type": "code",
      "execution_count": null,
      "metadata": {
        "id": "Emaz6RXyv9iM"
      },
      "outputs": [],
      "source": [
        "reference_seq=parse_file(reference_path)\n",
        "HKU1_seq=parse_file(HKU1_path)\n",
        "NL63_seq=parse_file(NL63_path)"
      ]
    },
    {
      "cell_type": "code",
      "source": [
        "len(reference_seq)"
      ],
      "metadata": {
        "colab": {
          "base_uri": "https://localhost:8080/"
        },
        "id": "tBFloo4lJkfY",
        "outputId": "0ebd27dd-5098-4348-e9d6-b992b5e6fb67"
      },
      "execution_count": null,
      "outputs": [
        {
          "output_type": "execute_result",
          "data": {
            "text/plain": [
              "29903"
            ]
          },
          "metadata": {},
          "execution_count": 6
        }
      ]
    },
    {
      "cell_type": "code",
      "source": [
        "len(HKU1_seq)"
      ],
      "metadata": {
        "colab": {
          "base_uri": "https://localhost:8080/"
        },
        "id": "LJUqX6TbJnXG",
        "outputId": "e4eb9dcf-3398-4e68-c19c-f2b626e21efc"
      },
      "execution_count": null,
      "outputs": [
        {
          "output_type": "execute_result",
          "data": {
            "text/plain": [
              "29926"
            ]
          },
          "metadata": {},
          "execution_count": 7
        }
      ]
    },
    {
      "cell_type": "code",
      "source": [
        "len(NL63_seq)"
      ],
      "metadata": {
        "id": "HN5ERTWWJq4A",
        "outputId": "ea55bdc0-c99a-4952-e9a9-edb45e49d96f",
        "colab": {
          "base_uri": "https://localhost:8080/"
        }
      },
      "execution_count": null,
      "outputs": [
        {
          "output_type": "execute_result",
          "data": {
            "text/plain": [
              "27553"
            ]
          },
          "metadata": {},
          "execution_count": 8
        }
      ]
    },
    {
      "cell_type": "code",
      "execution_count": null,
      "metadata": {
        "id": "R3awldEpeEkK"
      },
      "outputs": [],
      "source": [
        "\n",
        "spike_path='/content/spike.fna'\n",
        "spike_seq=parse_file(spike_path)\n",
        "\n",
        "N_path='/content/n.fna'\n",
        "N_seq=parse_file(N_path)\n",
        "\n",
        "M_path='/content/M.fna'\n",
        "M_seq=parse_file(M_path)"
      ]
    },
    {
      "cell_type": "markdown",
      "source": [
        "## GC and AT content"
      ],
      "metadata": {
        "id": "PEZX2n-6LJHm"
      }
    },
    {
      "cell_type": "code",
      "source": [
        "def GC_AT_content(sequence):\n",
        "  gc=sequence.count('G')+sequence.count('C')\n",
        "  gc_cont=gc*100/len(sequence)\n",
        "  at_cont=100-gc_cont\n",
        "  result=print('GC% content= ',gc_cont,'\\n','AT% content= ',at_cont)"
      ],
      "metadata": {
        "id": "tfbNFR18LEOs"
      },
      "execution_count": null,
      "outputs": []
    },
    {
      "cell_type": "code",
      "source": [
        "# Reference sequence\n",
        "GC_AT_content(reference_seq)"
      ],
      "metadata": {
        "colab": {
          "base_uri": "https://localhost:8080/"
        },
        "id": "gzuZsmX2LEd3",
        "outputId": "f7850d25-daa9-421a-ee62-451d0f2ba956"
      },
      "execution_count": null,
      "outputs": [
        {
          "output_type": "stream",
          "name": "stdout",
          "text": [
            "GC% content=  37.97277865097148 \n",
            " AT% content=  62.02722134902852\n"
          ]
        }
      ]
    },
    {
      "cell_type": "code",
      "source": [
        "# HKU1 sequence\n",
        "GC_AT_content(HKU1_seq)"
      ],
      "metadata": {
        "colab": {
          "base_uri": "https://localhost:8080/"
        },
        "id": "qXbqH9uqN6lM",
        "outputId": "e3173e22-643e-4a23-f546-a55e26101315"
      },
      "execution_count": null,
      "outputs": [
        {
          "output_type": "stream",
          "name": "stdout",
          "text": [
            "GC% content=  32.05907906168549 \n",
            " AT% content=  67.94092093831452\n"
          ]
        }
      ]
    },
    {
      "cell_type": "code",
      "source": [
        "# NL63 sequence\n",
        "GC_AT_content(NL63_seq)"
      ],
      "metadata": {
        "colab": {
          "base_uri": "https://localhost:8080/"
        },
        "id": "oVw6OE0SaFXv",
        "outputId": "774c06c9-3782-4c58-d910-15a763332b45"
      },
      "execution_count": null,
      "outputs": [
        {
          "output_type": "stream",
          "name": "stdout",
          "text": [
            "GC% content=  34.46085725692302 \n",
            " AT% content=  65.53914274307698\n"
          ]
        }
      ]
    },
    {
      "cell_type": "code",
      "source": [
        "df=pd.DataFrame({'Contenido GC%':[37.97277865097148,32.05907906168549 ,34.46085725692302],'Contenido AT%':[62.02722134902852,67.94092093831452,65.53914274307698]},index=['Genoma de referencia','Genoma HKU1','Genoma NL63'])\n",
        "df"
      ],
      "metadata": {
        "colab": {
          "base_uri": "https://localhost:8080/",
          "height": 143
        },
        "id": "pouvDyhGrPTv",
        "outputId": "0f9234d3-7726-4423-b574-c3d8d9089aad"
      },
      "execution_count": null,
      "outputs": [
        {
          "output_type": "execute_result",
          "data": {
            "text/plain": [
              "                      Contenido GC%  Contenido AT%\n",
              "Genoma de referencia      37.972779      62.027221\n",
              "Genoma HKU1               32.059079      67.940921\n",
              "Genoma NL63               34.460857      65.539143"
            ],
            "text/html": [
              "\n",
              "  <div id=\"df-01db1b0d-65c7-450c-b37f-e8ff7f73b822\">\n",
              "    <div class=\"colab-df-container\">\n",
              "      <div>\n",
              "<style scoped>\n",
              "    .dataframe tbody tr th:only-of-type {\n",
              "        vertical-align: middle;\n",
              "    }\n",
              "\n",
              "    .dataframe tbody tr th {\n",
              "        vertical-align: top;\n",
              "    }\n",
              "\n",
              "    .dataframe thead th {\n",
              "        text-align: right;\n",
              "    }\n",
              "</style>\n",
              "<table border=\"1\" class=\"dataframe\">\n",
              "  <thead>\n",
              "    <tr style=\"text-align: right;\">\n",
              "      <th></th>\n",
              "      <th>Contenido GC%</th>\n",
              "      <th>Contenido AT%</th>\n",
              "    </tr>\n",
              "  </thead>\n",
              "  <tbody>\n",
              "    <tr>\n",
              "      <th>Genoma de referencia</th>\n",
              "      <td>37.972779</td>\n",
              "      <td>62.027221</td>\n",
              "    </tr>\n",
              "    <tr>\n",
              "      <th>Genoma HKU1</th>\n",
              "      <td>32.059079</td>\n",
              "      <td>67.940921</td>\n",
              "    </tr>\n",
              "    <tr>\n",
              "      <th>Genoma NL63</th>\n",
              "      <td>34.460857</td>\n",
              "      <td>65.539143</td>\n",
              "    </tr>\n",
              "  </tbody>\n",
              "</table>\n",
              "</div>\n",
              "      <button class=\"colab-df-convert\" onclick=\"convertToInteractive('df-01db1b0d-65c7-450c-b37f-e8ff7f73b822')\"\n",
              "              title=\"Convert this dataframe to an interactive table.\"\n",
              "              style=\"display:none;\">\n",
              "        \n",
              "  <svg xmlns=\"http://www.w3.org/2000/svg\" height=\"24px\"viewBox=\"0 0 24 24\"\n",
              "       width=\"24px\">\n",
              "    <path d=\"M0 0h24v24H0V0z\" fill=\"none\"/>\n",
              "    <path d=\"M18.56 5.44l.94 2.06.94-2.06 2.06-.94-2.06-.94-.94-2.06-.94 2.06-2.06.94zm-11 1L8.5 8.5l.94-2.06 2.06-.94-2.06-.94L8.5 2.5l-.94 2.06-2.06.94zm10 10l.94 2.06.94-2.06 2.06-.94-2.06-.94-.94-2.06-.94 2.06-2.06.94z\"/><path d=\"M17.41 7.96l-1.37-1.37c-.4-.4-.92-.59-1.43-.59-.52 0-1.04.2-1.43.59L10.3 9.45l-7.72 7.72c-.78.78-.78 2.05 0 2.83L4 21.41c.39.39.9.59 1.41.59.51 0 1.02-.2 1.41-.59l7.78-7.78 2.81-2.81c.8-.78.8-2.07 0-2.86zM5.41 20L4 18.59l7.72-7.72 1.47 1.35L5.41 20z\"/>\n",
              "  </svg>\n",
              "      </button>\n",
              "      \n",
              "  <style>\n",
              "    .colab-df-container {\n",
              "      display:flex;\n",
              "      flex-wrap:wrap;\n",
              "      gap: 12px;\n",
              "    }\n",
              "\n",
              "    .colab-df-convert {\n",
              "      background-color: #E8F0FE;\n",
              "      border: none;\n",
              "      border-radius: 50%;\n",
              "      cursor: pointer;\n",
              "      display: none;\n",
              "      fill: #1967D2;\n",
              "      height: 32px;\n",
              "      padding: 0 0 0 0;\n",
              "      width: 32px;\n",
              "    }\n",
              "\n",
              "    .colab-df-convert:hover {\n",
              "      background-color: #E2EBFA;\n",
              "      box-shadow: 0px 1px 2px rgba(60, 64, 67, 0.3), 0px 1px 3px 1px rgba(60, 64, 67, 0.15);\n",
              "      fill: #174EA6;\n",
              "    }\n",
              "\n",
              "    [theme=dark] .colab-df-convert {\n",
              "      background-color: #3B4455;\n",
              "      fill: #D2E3FC;\n",
              "    }\n",
              "\n",
              "    [theme=dark] .colab-df-convert:hover {\n",
              "      background-color: #434B5C;\n",
              "      box-shadow: 0px 1px 3px 1px rgba(0, 0, 0, 0.15);\n",
              "      filter: drop-shadow(0px 1px 2px rgba(0, 0, 0, 0.3));\n",
              "      fill: #FFFFFF;\n",
              "    }\n",
              "  </style>\n",
              "\n",
              "      <script>\n",
              "        const buttonEl =\n",
              "          document.querySelector('#df-01db1b0d-65c7-450c-b37f-e8ff7f73b822 button.colab-df-convert');\n",
              "        buttonEl.style.display =\n",
              "          google.colab.kernel.accessAllowed ? 'block' : 'none';\n",
              "\n",
              "        async function convertToInteractive(key) {\n",
              "          const element = document.querySelector('#df-01db1b0d-65c7-450c-b37f-e8ff7f73b822');\n",
              "          const dataTable =\n",
              "            await google.colab.kernel.invokeFunction('convertToInteractive',\n",
              "                                                     [key], {});\n",
              "          if (!dataTable) return;\n",
              "\n",
              "          const docLinkHtml = 'Like what you see? Visit the ' +\n",
              "            '<a target=\"_blank\" href=https://colab.research.google.com/notebooks/data_table.ipynb>data table notebook</a>'\n",
              "            + ' to learn more about interactive tables.';\n",
              "          element.innerHTML = '';\n",
              "          dataTable['output_type'] = 'display_data';\n",
              "          await google.colab.output.renderOutput(dataTable, element);\n",
              "          const docLink = document.createElement('div');\n",
              "          docLink.innerHTML = docLinkHtml;\n",
              "          element.appendChild(docLink);\n",
              "        }\n",
              "      </script>\n",
              "    </div>\n",
              "  </div>\n",
              "  "
            ]
          },
          "metadata": {},
          "execution_count": 14
        }
      ]
    },
    {
      "cell_type": "code",
      "source": [
        ""
      ],
      "metadata": {
        "id": "8ggbZ0Z5s3ar"
      },
      "execution_count": null,
      "outputs": []
    },
    {
      "cell_type": "code",
      "source": [
        "fig,axes=plt.subplots(1,3,figsize=(8,6))\n",
        "sns.barplot(['GC%','AT%'],[37.97277865097148 ,62.02722134902852],ax=axes[0],).set(title='Reference_Sequence')\n",
        "sns.barplot(['GC%','AT%'],[32.05907906168549 ,67.94092093831452],ax=axes[1],).set(title='HKU1_Sequence')\n",
        "sns.barplot(['GC%','AT%'],[32.05907906168549 ,67.94092093831452],ax=axes[2],).set(title='NL63_Sequence')\n",
        "sns.set_style('darkgrid')\n",
        "plt.tight_layout()"
      ],
      "metadata": {
        "colab": {
          "base_uri": "https://localhost:8080/",
          "height": 565
        },
        "id": "sjmsXFAkN-ZD",
        "outputId": "1b09d5bc-c9ad-4262-930f-0ea3887614a5"
      },
      "execution_count": null,
      "outputs": [
        {
          "output_type": "stream",
          "name": "stderr",
          "text": [
            "/usr/local/lib/python3.7/dist-packages/seaborn/_decorators.py:43: FutureWarning: Pass the following variables as keyword args: x, y. From version 0.12, the only valid positional argument will be `data`, and passing other arguments without an explicit keyword will result in an error or misinterpretation.\n",
            "  FutureWarning\n",
            "/usr/local/lib/python3.7/dist-packages/seaborn/_decorators.py:43: FutureWarning: Pass the following variables as keyword args: x, y. From version 0.12, the only valid positional argument will be `data`, and passing other arguments without an explicit keyword will result in an error or misinterpretation.\n",
            "  FutureWarning\n",
            "/usr/local/lib/python3.7/dist-packages/seaborn/_decorators.py:43: FutureWarning: Pass the following variables as keyword args: x, y. From version 0.12, the only valid positional argument will be `data`, and passing other arguments without an explicit keyword will result in an error or misinterpretation.\n",
            "  FutureWarning\n"
          ]
        },
        {
          "output_type": "display_data",
          "data": {
            "text/plain": [
              "<Figure size 576x432 with 3 Axes>"
            ],
            "image/png": "[encoded data removed]"
          },
          "metadata": {
            "needs_background": "light"
          }
        }
      ]
    },
    {
      "cell_type": "markdown",
      "source": [
        "## Nucleotide count"
      ],
      "metadata": {
        "id": "UJ7h7HBUzNSC"
      }
    },
    {
      "cell_type": "code",
      "source": [
        "def count_nucleotides(name,seq):\n",
        "  count={'A':0,'T':0,'C':0,'G':0}\n",
        "  for i in seq:\n",
        "    count[i]+=1\n",
        "  return name,count"
      ],
      "metadata": {
        "id": "mmeV3fR0lDbp"
      },
      "execution_count": null,
      "outputs": []
    },
    {
      "cell_type": "code",
      "source": [
        "count_nucleotides('Reference',reference_seq)"
      ],
      "metadata": {
        "colab": {
          "base_uri": "https://localhost:8080/"
        },
        "id": "frOPSV4FlqAc",
        "outputId": "ee1f63c3-417b-41b3-d301-14bf705a89b8"
      },
      "execution_count": null,
      "outputs": [
        {
          "output_type": "execute_result",
          "data": {
            "text/plain": [
              "('Reference', {'A': 8954, 'C': 5492, 'G': 5863, 'T': 9594})"
            ]
          },
          "metadata": {},
          "execution_count": 17
        }
      ]
    },
    {
      "cell_type": "code",
      "source": [
        "count_nucleotides('HKU1',HKU1_seq)"
      ],
      "metadata": {
        "colab": {
          "base_uri": "https://localhost:8080/"
        },
        "id": "VPXoOnpzlqjU",
        "outputId": "06eedec0-f36d-4961-a234-89bb0fcd0d1e"
      },
      "execution_count": null,
      "outputs": [
        {
          "output_type": "execute_result",
          "data": {
            "text/plain": [
              "('HKU1', {'A': 8331, 'C': 3895, 'G': 5699, 'T': 12001})"
            ]
          },
          "metadata": {},
          "execution_count": 18
        }
      ]
    },
    {
      "cell_type": "code",
      "source": [
        "count_nucleotides('NL63',NL63_seq)"
      ],
      "metadata": {
        "colab": {
          "base_uri": "https://localhost:8080/"
        },
        "id": "bXx1JgZXlqvw",
        "outputId": "00e34f00-a6fe-4839-ccb7-0b14e3da22ec"
      },
      "execution_count": null,
      "outputs": [
        {
          "output_type": "execute_result",
          "data": {
            "text/plain": [
              "('NL63', {'A': 7253, 'C': 3979, 'G': 5516, 'T': 10805})"
            ]
          },
          "metadata": {},
          "execution_count": 19
        }
      ]
    },
    {
      "cell_type": "code",
      "source": [
        "fig,axes=plt.subplots(1,3,figsize=(8,6))\n",
        "ax1=sns.barplot(['A','C','G','T'],[8954,5492,5863,9594],ax=axes[0],).set(title='Reference_Sequence')\n",
        "sns.barplot(['A','C','G','T'],[8331,3895,5699,12001],ax=axes[1],).set(title='HKU1_Sequence')\n",
        "sns.barplot(['A','C','G','T'],[7253,3979,5516,10805],ax=axes[2],).set(title='NL63_Sequence')\n",
        "sns.set_style('darkgrid')\n",
        "plt.tight_layout()"
      ],
      "metadata": {
        "colab": {
          "base_uri": "https://localhost:8080/",
          "height": 565
        },
        "id": "KQDXI5AKmEp0",
        "outputId": "f55e8dd9-e64f-43c9-d64e-4c50617a2cb6"
      },
      "execution_count": null,
      "outputs": [
        {
          "output_type": "stream",
          "name": "stderr",
          "text": [
            "/usr/local/lib/python3.7/dist-packages/seaborn/_decorators.py:43: FutureWarning: Pass the following variables as keyword args: x, y. From version 0.12, the only valid positional argument will be `data`, and passing other arguments without an explicit keyword will result in an error or misinterpretation.\n",
            "  FutureWarning\n",
            "/usr/local/lib/python3.7/dist-packages/seaborn/_decorators.py:43: FutureWarning: Pass the following variables as keyword args: x, y. From version 0.12, the only valid positional argument will be `data`, and passing other arguments without an explicit keyword will result in an error or misinterpretation.\n",
            "  FutureWarning\n",
            "/usr/local/lib/python3.7/dist-packages/seaborn/_decorators.py:43: FutureWarning: Pass the following variables as keyword args: x, y. From version 0.12, the only valid positional argument will be `data`, and passing other arguments without an explicit keyword will result in an error or misinterpretation.\n",
            "  FutureWarning\n"
          ]
        },
        {
          "output_type": "display_data",
          "data": {
            "text/plain": [
              "<Figure size 576x432 with 3 Axes>"
            ],
            "image/png": "[encoded data removed]"
          },
          "metadata": {}
        }
      ]
    },
    {
      "cell_type": "markdown",
      "source": [
        "## Converting DNA sequences to codons and codons count"
      ],
      "metadata": {
        "id": "YzQS_ZblzZH2"
      }
    },
    {
      "cell_type": "code",
      "source": [
        "def to_codons(seq):\n",
        "    rna=seq.replace('T','U')\n",
        "    codon_string=[]\n",
        "    for i in range(0,len(rna),3):\n",
        "      codon_string.append(rna[i:i+3])\n",
        "    return codon_string\n",
        "  "
      ],
      "metadata": {
        "id": "Ol2iP_rBmEsS"
      },
      "execution_count": null,
      "outputs": []
    },
    {
      "cell_type": "code",
      "source": [
        "reference_seq_codons=to_codons(reference_seq)\n",
        "HKU1_seq_codons=to_codons(HKU1_seq)\n",
        "NL63_seq_codons=to_codons(NL63_seq)"
      ],
      "metadata": {
        "id": "ibbnf79PoXuQ"
      },
      "execution_count": null,
      "outputs": []
    },
    {
      "cell_type": "code",
      "source": [
        "def count_codons(codon_seq):\n",
        "  recount=Counter(codon_seq)\n",
        "  return recount"
      ],
      "metadata": {
        "id": "vi-E4xPboYOA"
      },
      "execution_count": null,
      "outputs": []
    },
    {
      "cell_type": "code",
      "source": [
        "count_codons(reference_seq_codons).values()"
      ],
      "metadata": {
        "colab": {
          "base_uri": "https://localhost:8080/"
        },
        "id": "nJtvUpaloYeA",
        "outputId": "78d88e67-958d-4912-abee-ea763ec20ebb"
      },
      "execution_count": null,
      "outputs": [
        {
          "output_type": "execute_result",
          "data": {
            "text/plain": [
              "dict_values([208, 303, 149, 232, 227, 208, 42, 123, 342, 233, 150, 212, 34, 112, 190, 367, 277, 233, 78, 60, 383, 93, 169, 101, 220, 33, 80, 172, 128, 268, 160, 116, 121, 116, 260, 54, 304, 92, 123, 197, 210, 75, 178, 28, 141, 249, 186, 167, 112, 84, 107, 263, 31, 115, 68, 84, 173, 110, 278, 49, 40, 22, 117, 110, 1])"
            ]
          },
          "metadata": {},
          "execution_count": 24
        }
      ]
    },
    {
      "cell_type": "code",
      "source": [
        "count_codons(reference_seq_codons).keys()"
      ],
      "metadata": {
        "colab": {
          "base_uri": "https://localhost:8080/"
        },
        "id": "ClUQ-v5koY2m",
        "outputId": "f103126d-0573-4dfd-b895-3e5f0a640517"
      },
      "execution_count": null,
      "outputs": [
        {
          "output_type": "execute_result",
          "data": {
            "text/plain": [
              "dict_keys(['AUU', 'AAA', 'GGU', 'UUA', 'UAC', 'CUU', 'CCC', 'AGG', 'UAA', 'CAA', 'ACC', 'AAC', 'UCG', 'AUC', 'UCU', 'UGU', 'AGA', 'GUU', 'CUC', 'ACG', 'UUU', 'GUG', 'GCU', 'GUC', 'ACU', 'CGG', 'CUG', 'CAU', 'UAG', 'UGC', 'CAC', 'GCA', 'GUA', 'AUA', 'AAU', 'CGU', 'UGA', 'CAG', 'GAC', 'AGU', 'UUC', 'UCC', 'UUG', 'CCG', 'AGC', 'ACA', 'GAA', 'GAU', 'GGA', 'GAG', 'CCU', 'UGG', 'CGA', 'CCA', 'GCC', 'GGC', 'UCA', 'CUA', 'UAU', 'GGG', 'CGC', 'GCG', 'AUG', 'AAG', 'AA'])"
            ]
          },
          "metadata": {},
          "execution_count": 25
        }
      ]
    },
    {
      "cell_type": "code",
      "source": [
        "count_codons(HKU1_seq_codons).values()"
      ],
      "metadata": {
        "colab": {
          "base_uri": "https://localhost:8080/"
        },
        "id": "ugCLSjx1qemX",
        "outputId": "5e6b2796-94ed-4afb-bf27-b74972031f50"
      },
      "execution_count": null,
      "outputs": [
        {
          "output_type": "execute_result",
          "data": {
            "text/plain": [
              "dict_values([83, 627, 39, 281, 28, 167, 126, 16, 237, 102, 97, 392, 144, 68, 195, 105, 388, 214, 143, 109, 347, 163, 536, 209, 147, 500, 37, 47, 49, 238, 67, 72, 28, 22, 355, 255, 103, 56, 129, 17, 72, 329, 36, 73, 60, 165, 135, 148, 307, 34, 232, 156, 197, 141, 113, 76, 65, 103, 274, 71, 89, 67, 73, 21, 1])"
            ]
          },
          "metadata": {},
          "execution_count": 26
        }
      ]
    },
    {
      "cell_type": "code",
      "source": [
        "count_codons(reference_seq_codons).keys()"
      ],
      "metadata": {
        "colab": {
          "base_uri": "https://localhost:8080/"
        },
        "id": "WTgMdjITqeyA",
        "outputId": "484cb8bd-2b7f-44be-9548-6f9f1489d7e2"
      },
      "execution_count": null,
      "outputs": [
        {
          "output_type": "execute_result",
          "data": {
            "text/plain": [
              "dict_keys(['AUU', 'AAA', 'GGU', 'UUA', 'UAC', 'CUU', 'CCC', 'AGG', 'UAA', 'CAA', 'ACC', 'AAC', 'UCG', 'AUC', 'UCU', 'UGU', 'AGA', 'GUU', 'CUC', 'ACG', 'UUU', 'GUG', 'GCU', 'GUC', 'ACU', 'CGG', 'CUG', 'CAU', 'UAG', 'UGC', 'CAC', 'GCA', 'GUA', 'AUA', 'AAU', 'CGU', 'UGA', 'CAG', 'GAC', 'AGU', 'UUC', 'UCC', 'UUG', 'CCG', 'AGC', 'ACA', 'GAA', 'GAU', 'GGA', 'GAG', 'CCU', 'UGG', 'CGA', 'CCA', 'GCC', 'GGC', 'UCA', 'CUA', 'UAU', 'GGG', 'CGC', 'GCG', 'AUG', 'AAG', 'AA'])"
            ]
          },
          "metadata": {},
          "execution_count": 27
        }
      ]
    },
    {
      "cell_type": "code",
      "source": [
        "count_codons(NL63_seq_codons).values()"
      ],
      "metadata": {
        "colab": {
          "base_uri": "https://localhost:8080/"
        },
        "id": "By1mJK-mqe7J",
        "outputId": "e95b9fec-2ee3-4262-9557-d89e23a2c589"
      },
      "execution_count": null,
      "outputs": [
        {
          "output_type": "execute_result",
          "data": {
            "text/plain": [
              "dict_values([197, 224, 119, 558, 183, 328, 113, 148, 135, 55, 210, 270, 186, 305, 493, 63, 136, 15, 157, 169, 128, 76, 53, 75, 128, 36, 351, 184, 99, 348, 103, 117, 79, 280, 304, 136, 167, 64, 56, 84, 136, 107, 84, 275, 119, 65, 208, 89, 63, 19, 194, 16, 14, 177, 89, 29, 62, 45, 121, 41, 73, 172, 18, 36, 1])"
            ]
          },
          "metadata": {},
          "execution_count": 28
        }
      ]
    },
    {
      "cell_type": "code",
      "source": [
        "count_codons(NL63_seq_codons).keys()"
      ],
      "metadata": {
        "colab": {
          "base_uri": "https://localhost:8080/"
        },
        "id": "1895V417qfVZ",
        "outputId": "a6d49c2b-9c5d-4dc4-f8e4-3a8047ae55d8"
      },
      "execution_count": null,
      "outputs": [
        {
          "output_type": "execute_result",
          "data": {
            "text/plain": [
              "dict_keys(['CUU', 'AAA', 'GAA', 'UUU', 'UUC', 'UAU', 'CUA', 'UAG', 'AUA', 'GAG', 'AAU', 'AUU', 'ACU', 'UUG', 'UGU', 'CUC', 'UCA', 'CGA', 'UCU', 'AGU', 'GCU', 'GUC', 'GGC', 'CCU', 'GUA', 'UCG', 'UAA', 'GGU', 'GCA', 'GUU', 'GUG', 'AAG', 'CAC', 'UGG', 'UGA', 'CAU', 'ACA', 'UCC', 'GGA', 'AGC', 'AAC', 'CUG', 'CCA', 'UUA', 'CAA', 'GAC', 'UGC', 'AGG', 'CGU', 'CGC', 'AUG', 'CCG', 'CGG', 'UAC', 'ACC', 'GCG', 'CAG', 'ACG', 'AGA', 'GCC', 'AUC', 'GAU', 'CCC', 'GGG', 'C'])"
            ]
          },
          "metadata": {},
          "execution_count": 29
        }
      ]
    },
    {
      "cell_type": "code",
      "source": [
        "plt.figure(figsize=(12,10))\n",
        "sns.barplot(['AUU', 'AAA', 'GGU', 'UUA', 'UAC', 'CUU', 'CCC', 'AGG', 'UAA', 'CAA', 'ACC', 'AAC', 'UCG', 'AUC', 'UCU', 'UGU', 'AGA', 'GUU', 'CUC', 'ACG', 'UUU', 'GUG', 'GCU', 'GUC', 'ACU', 'CGG', 'CUG', 'CAU', 'UAG', 'UGC', 'CAC', 'GCA', 'GUA', 'AUA', 'AAU', 'CGU', 'UGA', 'CAG', 'GAC', 'AGU', 'UUC', 'UCC', 'UUG', 'CCG', 'AGC', 'ACA', 'GAA', 'GAU', 'GGA', 'GAG', 'CCU', 'UGG', 'CGA', 'CCA', 'GCC', 'GGC', 'UCA', 'CUA', 'UAU', 'GGG', 'CGC', 'GCG', 'AUG', 'AAG', 'AA'],[208, 303, 149, 232, 227, 208, 42, 123, 342, 233, 150, 212, 34, 112, 190, 367, 277, 233, 78, 60, 383, 93, 169, 101, 220, 33, 80, 172, 128, 268, 160, 116, 121, 116, 260, 54, 304, 92, 123, 197, 210, 75, 178, 28, 141, 249, 186, 167, 112, 84, 107, 263, 31, 115, 68, 84, 173, 110, 278, 49, 40, 22, 117, 110, 1]).set(title='Reference_Sequence')\n",
        "sns.set_style('darkgrid')\n",
        "plt.xticks(rotation=90)"
      ],
      "metadata": {
        "colab": {
          "base_uri": "https://localhost:8080/",
          "height": 763
        },
        "id": "6kfody2noY-w",
        "outputId": "a3f46292-8c26-42d8-ec0a-3df629cc5236"
      },
      "execution_count": null,
      "outputs": [
        {
          "output_type": "stream",
          "name": "stderr",
          "text": [
            "/usr/local/lib/python3.7/dist-packages/seaborn/_decorators.py:43: FutureWarning: Pass the following variables as keyword args: x, y. From version 0.12, the only valid positional argument will be `data`, and passing other arguments without an explicit keyword will result in an error or misinterpretation.\n",
            "  FutureWarning\n"
          ]
        },
        {
          "output_type": "execute_result",
          "data": {
            "text/plain": [
              "(array([ 0,  1,  2,  3,  4,  5,  6,  7,  8,  9, 10, 11, 12, 13, 14, 15, 16,\n",
              "        17, 18, 19, 20, 21, 22, 23, 24, 25, 26, 27, 28, 29, 30, 31, 32, 33,\n",
              "        34, 35, 36, 37, 38, 39, 40, 41, 42, 43, 44, 45, 46, 47, 48, 49, 50,\n",
              "        51, 52, 53, 54, 55, 56, 57, 58, 59, 60, 61, 62, 63, 64]),\n",
              " <a list of 65 Text major ticklabel objects>)"
            ]
          },
          "metadata": {},
          "execution_count": 30
        },
        {
          "output_type": "display_data",
          "data": {
            "text/plain": [
              "<Figure size 864x720 with 1 Axes>"
            ],
            "image/png": "[encoded data removed]"
          },
          "metadata": {}
        }
      ]
    },
    {
      "cell_type": "code",
      "source": [
        "plt.figure(figsize=(12,10))\n",
        "sns.barplot(['AUU', 'AAA', 'GGU', 'UUA', 'UAC', 'CUU', 'CCC', 'AGG', 'UAA', 'CAA', 'ACC', 'AAC', 'UCG', 'AUC', 'UCU', 'UGU', 'AGA', 'GUU', 'CUC', 'ACG', 'UUU', 'GUG', 'GCU', 'GUC', 'ACU', 'CGG', 'CUG', 'CAU', 'UAG', 'UGC', 'CAC', 'GCA', 'GUA', 'AUA', 'AAU', 'CGU', 'UGA', 'CAG', 'GAC', 'AGU', 'UUC', 'UCC', 'UUG', 'CCG', 'AGC', 'ACA', 'GAA', 'GAU', 'GGA', 'GAG', 'CCU', 'UGG', 'CGA', 'CCA', 'GCC', 'GGC', 'UCA', 'CUA', 'UAU', 'GGG', 'CGC', 'GCG', 'AUG', 'AAG', 'AA'],[83, 627, 39, 281, 28, 167, 126, 16, 237, 102, 97, 392, 144, 68, 195, 105, 388, 214, 143, 109, 347, 163, 536, 209, 147, 500, 37, 47, 49, 238, 67, 72, 28, 22, 355, 255, 103, 56, 129, 17, 72, 329, 36, 73, 60, 165, 135, 148, 307, 34, 232, 156, 197, 141, 113, 76, 65, 103, 274, 71, 89, 67, 73, 21, 1]).set(title='HKU1_Sequence')\n",
        "plt.xticks(rotation=90)\n",
        "sns.set_style('darkgrid')"
      ],
      "metadata": {
        "colab": {
          "base_uri": "https://localhost:8080/",
          "height": 676
        },
        "id": "I2PgMZfRoZGP",
        "outputId": "777bc662-033e-4692-81c9-a8159595fe62"
      },
      "execution_count": null,
      "outputs": [
        {
          "output_type": "stream",
          "name": "stderr",
          "text": [
            "/usr/local/lib/python3.7/dist-packages/seaborn/_decorators.py:43: FutureWarning: Pass the following variables as keyword args: x, y. From version 0.12, the only valid positional argument will be `data`, and passing other arguments without an explicit keyword will result in an error or misinterpretation.\n",
            "  FutureWarning\n"
          ]
        },
        {
          "output_type": "display_data",
          "data": {
            "text/plain": [
              "<Figure size 864x720 with 1 Axes>"
            ],
            "image/png": "[encoded data removed]"
          },
          "metadata": {}
        }
      ]
    },
    {
      "cell_type": "code",
      "source": [
        "plt.figure(figsize=(12,10))\n",
        "sns.barplot(['CUU', 'AAA', 'GAA', 'UUU', 'UUC', 'UAU', 'CUA', 'UAG', 'AUA', 'GAG', 'AAU', 'AUU', 'ACU', 'UUG', 'UGU', 'CUC', 'UCA', 'CGA', 'UCU', 'AGU', 'GCU', 'GUC', 'GGC', 'CCU', 'GUA', 'UCG', 'UAA', 'GGU', 'GCA', 'GUU', 'GUG', 'AAG', 'CAC', 'UGG', 'UGA', 'CAU', 'ACA', 'UCC', 'GGA', 'AGC', 'AAC', 'CUG', 'CCA', 'UUA', 'CAA', 'GAC', 'UGC', 'AGG', 'CGU', 'CGC', 'AUG', 'CCG', 'CGG', 'UAC', 'ACC', 'GCG', 'CAG', 'ACG', 'AGA', 'GCC', 'AUC', 'GAU', 'CCC', 'GGG', 'C'],[197, 224, 119, 558, 183, 328, 113, 148, 135, 55, 210, 270, 186, 305, 493, 63, 136, 15, 157, 169, 128, 76, 53, 75, 128, 36, 351, 184, 99, 348, 103, 117, 79, 280, 304, 136, 167, 64, 56, 84, 136, 107, 84, 275, 119, 65, 208, 89, 63, 19, 194, 16, 14, 177, 89, 29, 62, 45, 121, 41, 73, 172, 18, 36, 1]).set(title='NL63_Sequence')\n",
        "plt.xticks(rotation=90)\n",
        "sns.set_style('darkgrid')"
      ],
      "metadata": {
        "colab": {
          "base_uri": "https://localhost:8080/",
          "height": 676
        },
        "id": "H3CW1CoryWEO",
        "outputId": "f07cf7f2-f5a6-4b31-d647-d18fd9b222f7"
      },
      "execution_count": null,
      "outputs": [
        {
          "output_type": "stream",
          "name": "stderr",
          "text": [
            "/usr/local/lib/python3.7/dist-packages/seaborn/_decorators.py:43: FutureWarning: Pass the following variables as keyword args: x, y. From version 0.12, the only valid positional argument will be `data`, and passing other arguments without an explicit keyword will result in an error or misinterpretation.\n",
            "  FutureWarning\n"
          ]
        },
        {
          "output_type": "display_data",
          "data": {
            "text/plain": [
              "<Figure size 864x720 with 1 Axes>"
            ],
            "image/png": "[encoded data removed]"
          },
          "metadata": {}
        }
      ]
    },
    {
      "cell_type": "markdown",
      "source": [
        "## Protein searching inside genomes and finding the position where they are encoded by a gene inside the different Coronavirus genomes."
      ],
      "metadata": {
        "id": "1jUbvzeGz5_W"
      }
    },
    {
      "cell_type": "markdown",
      "source": [
        "False= Protein is not found inside the genome of the virus. That particular protein is not produced by the virus\n",
        "\n",
        "True= Protein is found inside the genome of the virus. That particular protein is produced by the virus.\n",
        "\n"
      ],
      "metadata": {
        "id": "p1Ncby830RGQ"
      }
    },
    {
      "cell_type": "code",
      "execution_count": null,
      "metadata": {
        "id": "DKIQ8yYZu06M",
        "colab": {
          "base_uri": "https://localhost:8080/"
        },
        "outputId": "968960f2-1c59-4e40-fed3-fa0955d4da18"
      },
      "outputs": [
        {
          "output_type": "execute_result",
          "data": {
            "text/plain": [
              "(True, False, False)"
            ]
          },
          "metadata": {},
          "execution_count": 44
        }
      ],
      "source": [
        "# This particular spike protein is found in the reference virus sequence but not in the other two.\n",
        "spike_seq in reference_seq, spike_seq in HKU1_seq, spike_seq in NL63_seq"
      ]
    },
    {
      "cell_type": "code",
      "source": [
        "# It is found in position 21562 of the genome of the virus.\n",
        "reference_seq.find(spike_seq)"
      ],
      "metadata": {
        "colab": {
          "base_uri": "https://localhost:8080/"
        },
        "id": "n3-Z1MGaKNhL",
        "outputId": "aa8a4f02-419a-45f5-9f0e-3b67334b48b2"
      },
      "execution_count": null,
      "outputs": [
        {
          "output_type": "execute_result",
          "data": {
            "text/plain": [
              "21562"
            ]
          },
          "metadata": {},
          "execution_count": 49
        }
      ]
    },
    {
      "cell_type": "code",
      "source": [
        "# This particular orf6 protein is found in the reference virus sequence but not in the other two.\n",
        "N_seq in reference_seq, N_seq in HKU1_seq, N_seq in NL63_seq"
      ],
      "metadata": {
        "colab": {
          "base_uri": "https://localhost:8080/"
        },
        "id": "hG8eN1xhKNkL",
        "outputId": "b2048be4-de5b-4db8-f495-8973ba17fd46"
      },
      "execution_count": null,
      "outputs": [
        {
          "output_type": "execute_result",
          "data": {
            "text/plain": [
              "(False, True, False)"
            ]
          },
          "metadata": {},
          "execution_count": 50
        }
      ]
    },
    {
      "cell_type": "code",
      "execution_count": null,
      "metadata": {
        "id": "tgPqgC_yvoRe",
        "colab": {
          "base_uri": "https://localhost:8080/"
        },
        "outputId": "d7265bce-d2b0-4035-bfe5-6c56dc974c0c"
      },
      "outputs": [
        {
          "output_type": "execute_result",
          "data": {
            "text/plain": [
              "28319"
            ]
          },
          "metadata": {},
          "execution_count": 57
        }
      ],
      "source": [
        "# It is found in position 28319 of the genome of the virus.\n",
        "HKU1_seq.find(N_seq)"
      ]
    },
    {
      "cell_type": "code",
      "execution_count": null,
      "metadata": {
        "id": "v7JWhAEIveXY",
        "colab": {
          "base_uri": "https://localhost:8080/"
        },
        "outputId": "74ef399f-a580-43d7-e1d2-be4d6f8b0d08"
      },
      "outputs": [
        {
          "output_type": "execute_result",
          "data": {
            "text/plain": [
              "(False, False, True)"
            ]
          },
          "metadata": {},
          "execution_count": 53
        }
      ],
      "source": [
        "# This particular M protein is found in NL63 sequence.\n",
        "M_seq in reference_seq,M_seq in HKU1_seq, M_seq in NL63_seq"
      ]
    },
    {
      "cell_type": "code",
      "execution_count": null,
      "metadata": {
        "id": "0kQxztSD09-Q",
        "colab": {
          "base_uri": "https://localhost:8080/"
        },
        "outputId": "71f65eb3-7aa5-4a9a-aac1-7f35baabea77"
      },
      "outputs": [
        {
          "output_type": "execute_result",
          "data": {
            "text/plain": [
              "25441"
            ]
          },
          "metadata": {},
          "execution_count": 58
        }
      ],
      "source": [
        "# It is found in position 25441 of the genome of the virus.\n",
        "NL63_seq.find(M_seq)"
      ]
    },
    {
      "cell_type": "code",
      "source": [
        ""
      ],
      "metadata": {
        "id": "tFumSPJrxiA0"
      },
      "execution_count": null,
      "outputs": []
    },
    {
      "cell_type": "code",
      "source": [
        ""
      ],
      "metadata": {
        "id": "lWQyrKlSxjhr"
      },
      "execution_count": null,
      "outputs": []
    },
    {
      "cell_type": "code",
      "source": [
        ""
      ],
      "metadata": {
        "id": "aG309raYxm6S"
      },
      "execution_count": null,
      "outputs": []
    }
  ],
  "metadata": {
    "colab": {
      "collapsed_sections": [],
      "name": "Covid_19_comp.ipynb",
      "provenance": []
    },
    "kernelspec": {
      "display_name": "Python 3",
      "name": "python3"
    },
    "language_info": {
      "name": "python"
    }
  },
  "nbformat": 4,
  "nbformat_minor": 0
}